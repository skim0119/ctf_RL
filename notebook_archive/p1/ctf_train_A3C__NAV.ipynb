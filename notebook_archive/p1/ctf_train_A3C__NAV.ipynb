{
 "cells": [
  {
   "cell_type": "markdown",
   "metadata": {},
   "source": [
    "# Capture the Flag (RL - Policy Gradient)\n",
    "\n",
    "- Seung Hyun Kim\n",
    "- skim449@illinois.edu\n",
    "\n",
    "## Implementation Details\n",
    "\n",
    "- Actor-critic\n",
    "- On Policy\n",
    "\n",
    "### Sampling\n",
    "- [ ] Mini-batch to update 'average' gradient\n",
    "- [ ] Experience Replay for Random Sampling\n",
    "- [ ] Importance Sampling\n",
    "    \n",
    "### Deterministic Policy Gradient\n",
    "- [ ] DDPG\n",
    "- [ ] MADDPG\n",
    "\n",
    "### Stability and Reducing Variance\n",
    "- [x] Gradient clipping\n",
    "- [ ] Normalized Reward/Advantage\n",
    "- [ ] Target Network\n",
    "- [ ] TRPO\n",
    "- [ ] PPO\n",
    "\n",
    "### Multiprocessing\n",
    "- [ ] Synchronous Training (A2C)\n",
    "- [x] Asynchronous Training (A3C)\n",
    "\n",
    "### Applied Training Methods:\n",
    "- [ ] Self-play\n",
    "- [ ] Batch Policy\n",
    "\n",
    "## Notes\n",
    "\n",
    "- This notebook includes:\n",
    "    - Building the structure of policy driven network.\n",
    "    - Training with/without render\n",
    "    - Saver that save model and weights to ./model directory\n",
    "    - Writer that will record some necessary datas to ./logs\n",
    "\n",
    "- This notebook does not include:\n",
    "    - Simulation with RL policy\n",
    "        - The simulation can be done using policy_RL.py\n",
    "    - cap_test.py is changed appropriately.\n",
    "    \n",
    "## References :\n",
    "- https://github.com/awjuliani/DeepRL-Agents/blob/master/Vanilla-Policy.ipynb (source)\n",
    "- https://www.youtube.com/watch?v=PDbXPBwOavc\n",
    "- https://github.com/lilianweng/deep-reinforcement-learning-gym/blob/master/playground/policies/actor_critic.py (source)\n",
    "- https://github.com/spro/practical-pytorch/blob/master/reinforce-gridworld/reinforce-gridworld.ipynb\n",
    "\n",
    "## TODO:\n",
    "\n",
    "- Research on '_bootstrap_' instead of end-reward\n",
    "- Add global step\n",
    "- Think about adding discont to advantage\n",
    "- Normalize reward?\n",
    "- Record method in network"
   ]
  },
  {
   "cell_type": "markdown",
   "metadata": {},
   "source": [
    "!rm -rf logs/A3C_Navigation/ model/A3C_Navigation"
   ]
  },
  {
   "cell_type": "code",
   "execution_count": 1,
   "metadata": {},
   "outputs": [],
   "source": [
    "TRAIN_NAME='A3C_Navigation'\n",
    "LOG_PATH='./logs/'+TRAIN_NAME\n",
    "MODEL_PATH='./model/' + TRAIN_NAME\n",
    "RENDER_PATH='./render/' + TRAIN_NAME\n",
    "GPU_CAPACITY=0.25 # gpu capacity in percentage"
   ]
  },
  {
   "cell_type": "code",
   "execution_count": 2,
   "metadata": {},
   "outputs": [],
   "source": [
    "import os\n",
    "import configparser\n",
    "\n",
    "import signal\n",
    "import threading\n",
    "import multiprocessing\n",
    "\n",
    "import tensorflow as tf\n",
    "import tensorflow.contrib.slim as slim\n",
    "import tensorflow.contrib.layers as layers\n",
    "from tensorflow.python.client import device_lib\n",
    "import matplotlib.pyplot as plt\n",
    "%matplotlib inline\n",
    "\n",
    "import time\n",
    "import gym\n",
    "import gym_cap\n",
    "import gym_cap.envs.const as CONST\n",
    "import numpy as np\n",
    "import random\n",
    "import math\n",
    "\n",
    "# the modules that you can use to generate the policy. \n",
    "import policy.random\n",
    "import policy.roomba\n",
    "import policy.policy_RL\n",
    "import policy.zeros\n",
    "\n",
    "# Data Processing Module\n",
    "from utility.dataModule import one_hot_encoder as one_hot_encoder\n",
    "from utility.utils import MovingAverage as MA\n",
    "from utility.utils import Experience_buffer, discount_rewards\n",
    "from utility.buffer import Trajectory\n",
    "\n",
    "from network.ActorCritic import ActorCritic as AC\n",
    "\n",
    "import imageio\n",
    "\n",
    "%load_ext autoreload\n",
    "%autoreload 2"
   ]
  },
  {
   "cell_type": "markdown",
   "metadata": {},
   "source": [
    "## Hyperparameters"
   ]
  },
  {
   "cell_type": "code",
   "execution_count": 3,
   "metadata": {},
   "outputs": [],
   "source": [
    "# Importing global configuration\n",
    "config = configparser.ConfigParser()\n",
    "config.read('config.ini')\n",
    "\n",
    "## Environment\n",
    "action_space = config.getint('DEFAULT','ACTION_SPACE')\n",
    "n_agent = config.getint('DEFAULT','NUM_AGENT')\n",
    "map_size = config.getint('DEFAULT','MAP_SIZE')\n",
    "vision_range = config.getint('DEFAULT','VISION_RANGE')\n",
    "\n",
    "## Training\n",
    "total_episodes = config.getint('TRAINING','TOTAL_EPISODES')\n",
    "max_ep = config.getint('TRAINING','MAX_STEP')\n",
    "critic_beta = config.getfloat('TRAINING', 'CRITIC_BETA')\n",
    "entropy_beta = config.getfloat('TRAINING', 'ENTROPY_BETA')\n",
    "gamma = config.getfloat('TRAINING', 'DISCOUNT_RATE')\n",
    "\n",
    "decay_lr = config.getboolean('TRAINING','DECAYING_LR')\n",
    "lr_a = 5e-5#config.getfloat('TRAINING','LR_ACTOR')\n",
    "lr_c = 2e-4#config.getfloat('TRAINING','LR_CRITIC')\n",
    "\n",
    "## Save/Summary\n",
    "save_network_frequency = config.getint('TRAINING','SAVE_NETWORK_FREQ')\n",
    "save_stat_frequency = config.getint('TRAINING','SAVE_STATISTICS_FREQ')\n",
    "save_render_frequency = 2000\n",
    "moving_average_step = config.getint('TRAINING','MOVING_AVERAGE_SIZE')\n",
    "\n",
    "## GPU\n",
    "gpu_capacity = config.getfloat('GPU_CONFIG','GPU_CAPACITY')\n",
    "gpu_allowgrow = config.getboolean('GPU_CONFIG', 'GPU_ALLOWGROW')"
   ]
  },
  {
   "cell_type": "code",
   "execution_count": 4,
   "metadata": {},
   "outputs": [],
   "source": [
    "# Local configuration parameters\n",
    "update_frequency = 150\n",
    "#po_transition = 50000 # Partial observable\n",
    "\n",
    "# Env Settings\n",
    "vision_dx, vision_dy = 2*vision_range+1, 2*vision_range+1\n",
    "nchannel = 6\n",
    "in_size = [None,vision_dx,vision_dy,nchannel]\n",
    "nenv = 8#(int) (multiprocessing.cpu_count())\n",
    "\n",
    "# Asynch Settings\n",
    "global_scope = 'global'"
   ]
  },
  {
   "cell_type": "markdown",
   "metadata": {},
   "source": [
    "## Environment Setting"
   ]
  },
  {
   "cell_type": "code",
   "execution_count": 5,
   "metadata": {},
   "outputs": [],
   "source": [
    "if not os.path.exists(MODEL_PATH):\n",
    "    os.makedirs(MODEL_PATH)\n",
    "    \n",
    "#Create a directory to save episode playback gifs to\n",
    "if not os.path.exists(LOG_PATH):\n",
    "    os.makedirs(LOG_PATH)\n",
    "    \n",
    "if not os.path.exists(RENDER_PATH):\n",
    "    os.makedirs(RENDER_PATH)"
   ]
  },
  {
   "cell_type": "markdown",
   "metadata": {},
   "source": [
    "## A3C Network Structure\n",
    "\n",
    "![Network Structure](https://cdn-images-1.medium.com/max/1600/1*YtnGhtSAMnnHSL8PvS7t_w.png)\n",
    "\n",
    "- Network is given in network.ActorCritic"
   ]
  },
  {
   "cell_type": "markdown",
   "metadata": {},
   "source": [
    "## Environments\n",
    "\n",
    "![Environment Interaction Diagram](https://cdn-images-1.medium.com/max/1600/1*Hzql_1t0-wwDxiz0C97AcQ.png)"
   ]
  },
  {
   "cell_type": "code",
   "execution_count": 6,
   "metadata": {},
   "outputs": [],
   "source": [
    "global_rewards = MA(moving_average_step)\n",
    "global_ep_rewards = MA(moving_average_step)\n",
    "global_length = MA(moving_average_step)\n",
    "global_succeed = MA(moving_average_step)\n",
    "global_episodes = 0\n",
    "\n",
    "# Launch the session\n",
    "gpu_options = tf.GPUOptions(per_process_gpu_memory_fraction=GPU_CAPACITY, allow_growth=True)\n",
    "\n",
    "sess = tf.Session(config=tf.ConfigProto(gpu_options=gpu_options))\n",
    "progbar = tf.keras.utils.Progbar(total_episodes,interval=1)"
   ]
  },
  {
   "cell_type": "markdown",
   "metadata": {},
   "source": [
    "## Worker"
   ]
  },
  {
   "cell_type": "code",
   "execution_count": 7,
   "metadata": {},
   "outputs": [],
   "source": [
    "class Worker(object):\n",
    "    def __init__(self, name, globalAC, sess, global_step=0):\n",
    "        # Initialize Environment worker\n",
    "        self.env = gym.make(\"cap-v0\").unwrapped\n",
    "        self.env.reset(map_size=map_size,\n",
    "                       policy_red=policy.zeros.PolicyGen(self.env.get_map, self.env.get_team_red),\n",
    "                       num_blue=4,\n",
    "                       num_red=0\n",
    "                      )\n",
    "        print(f'    env launched: n_red:{len(self.env.get_team_red)}, n_blue:{len(self.env.get_team_blue)}')\n",
    "                     \n",
    "        self.name = name\n",
    "        \n",
    "        # Create AC Network for Worker\n",
    "        self.AC = AC(in_size=in_size,\n",
    "                     action_size=action_space,\n",
    "                     decay_lr=decay_lr,\n",
    "                     lr_actor=lr_a,\n",
    "                     lr_critic=lr_c,\n",
    "                     grad_clip_norm=0,\n",
    "                     scope=self.name,\n",
    "                     global_step=global_step,\n",
    "                     initial_step=0,\n",
    "                     entropy_beta = 0.01,\n",
    "                     sess=sess,\n",
    "                     global_network=global_ac)\n",
    "        \n",
    "        self.sess=sess\n",
    "        \n",
    "    def get_action(self, states):\n",
    "        actions, values = [], []\n",
    "        for state in states:\n",
    "            feed_dict = {self.AC.state_input : state[np.newaxis,:]}\n",
    "            action, value = self.AC.run_network(feed_dict)\n",
    "            actions.append(action[0])\n",
    "            values.append(value[0])\n",
    "#        feed_dict = {self.AC.state_input : s}\n",
    "#        a1, v1, _ = self.AC.run_network(feed_dict)\n",
    "        \n",
    "#        return a1, v1, _\n",
    "        return actions, values\n",
    "\n",
    "    def work(self, saver, writer):\n",
    "        global global_rewards, global_ep_rewards, global_episodes, global_length, global_succeed\n",
    "        total_step = 1\n",
    "                \n",
    "        # loop\n",
    "        with self.sess.as_default(), self.sess.graph.as_default():\n",
    "            while not coord.should_stop() and global_episodes < total_episodes:\n",
    "                s0 = self.env.reset(num_blue=4, num_red=0)\n",
    "                s0 = one_hot_encoder(self.env._env, self.env.get_team_blue, vision_range)\n",
    "                \n",
    "                # parameters \n",
    "                ep_r = 0 # Episodic Reward\n",
    "                prev_r = 0\n",
    "                was_alive = [ag.isAlive for ag in self.env.get_team_blue]\n",
    "\n",
    "                trajs = [Trajectory(depth=4) for _ in range(n_agent)]\n",
    "                \n",
    "                # Bootstrap\n",
    "                a1, v1 = self.get_action(s0)\n",
    "                \n",
    "                # Recording Frames\n",
    "                frames = []\n",
    "                render = global_episodes % save_render_frequency == 0 and global_episodes>0\n",
    "                \n",
    "                for step in range(max_ep+1):\n",
    "                    if render:\n",
    "                        frames.append(self.env.render(mode='rgb_array'))\n",
    "                        self.env.viewer.window.set_visible(False)\n",
    "                    a, v0 = a1, v1\n",
    "                    \n",
    "                    s1, rc, d, _ = self.env.step(a)\n",
    "                    s1 = one_hot_encoder(self.env._env, self.env.get_team_blue, vision_range)\n",
    "                    is_alive = [ag.isAlive for ag in self.env.get_team_blue]\n",
    "                    r = (rc - prev_r-0.5)\n",
    "\n",
    "                    if step == max_ep and d == False:\n",
    "                        r = -100\n",
    "                        rc = -100\n",
    "                        d = True\n",
    "\n",
    "                    r /= 100.0\n",
    "                    ep_r += r\n",
    "\n",
    "                    if d:\n",
    "                        v1 = [0.0 for _ in range(len(self.env.get_team_blue))]\n",
    "                    else:\n",
    "                        a1, v1 = self.get_action(s1)\n",
    "\n",
    "                    # push to buffer\n",
    "                    for idx, agent in enumerate(self.env.get_team_blue):\n",
    "                        if was_alive[idx]:\n",
    "                            trajs[idx].append([s0[idx],\n",
    "                                               a[idx],\n",
    "                                               r,\n",
    "                                               v0[idx]\n",
    "                                              ])\n",
    "\n",
    "                    if total_step % update_frequency == 0 or d:\n",
    "                        aloss, closs, etrpy, feed_dict = self.train(trajs, sess, v1)\n",
    "                        trajs = [Trajectory(depth=5) for _ in range(n_agent)]\n",
    "\n",
    "                    # Iteration\n",
    "                    prev_r = rc\n",
    "                    was_alive = is_alive\n",
    "                    s0=s1\n",
    "                    total_step += 1\n",
    "\n",
    "                    if d:\n",
    "                        break\n",
    "                        \n",
    "                if render:\n",
    "                    imageio.mimsave(RENDER_PATH+f'/ep{global_episodes}_render.gif', frames)\n",
    "                global_ep_rewards.append(ep_r)\n",
    "                global_rewards.append(rc)\n",
    "                global_length.append(step)\n",
    "                global_succeed.append(self.env.blue_win)\n",
    "                global_episodes += 1\n",
    "                self.sess.run(global_step_next)\n",
    "                progbar.update(global_episodes)\n",
    "                if global_episodes % save_stat_frequency == 0 and global_episodes != 0:\n",
    "                    summary_ = sess.run(merged_summary_op, feed_dict)\n",
    "                    summary = tf.Summary()\n",
    "                    summary.value.add(tag='Records/mean_reward', simple_value=global_rewards())\n",
    "                    summary.value.add(tag='Records/mean_length', simple_value=global_length())\n",
    "                    summary.value.add(tag='Records/mean_succeed', simple_value=global_succeed())\n",
    "                    summary.value.add(tag='Records/mean_episode_reward', simple_value=global_ep_rewards())\n",
    "                    summary.value.add(tag='summary/Entropy', simple_value=etrpy)\n",
    "                    summary.value.add(tag='summary/actor_loss', simple_value=aloss)\n",
    "                    summary.value.add(tag='summary/critic_loss', simple_value=closs)\n",
    "                    writer.add_summary(summary,global_episodes)\n",
    "                    writer.add_summary(summary_,global_episodes)\n",
    "\n",
    "                    writer.flush()\n",
    "                if global_episodes % save_network_frequency == 0 and global_episodes != 0:\n",
    "                    saver.save(self.sess, MODEL_PATH+'/ctf_policy.ckpt', global_step=global_episodes)\n",
    "\n",
    "    def train(self, trajs, sess, bootstrap=0.0):\n",
    "        buffer_s, buffer_a, buffer_tdtarget, buffer_adv = [], [], [], []\n",
    "        for idx, traj in enumerate(trajs):\n",
    "            if len(traj) == 0:\n",
    "                continue\n",
    "            observations = traj[0]\n",
    "            actions = traj[1]\n",
    "            rewards = np.array(traj[2])\n",
    "            values = np.array(traj[3])\n",
    "            \n",
    "            value_ext = np.append(values, [bootstrap[idx]])\n",
    "            td_target  = rewards + gamma * value_ext[1:]\n",
    "            advantages = rewards + gamma * value_ext[1:] - value_ext[:-1]\n",
    "            advantages = discount_rewards(advantages,gamma)\n",
    "            \n",
    "            buffer_s.extend(observations)\n",
    "            buffer_a.extend(actions)\n",
    "            buffer_tdtarget.extend(td_target.tolist())\n",
    "            buffer_adv.extend(advantages.tolist())\n",
    "\n",
    "\n",
    "        buffer_s, buffer_a, buffer_tdtarget, buffer_adv = np.stack(buffer_s), np.array(buffer_a), np.array(buffer_tdtarget), np.array(buffer_adv)\n",
    "        feed_dict = {\n",
    "            self.AC.state_input : buffer_s,\n",
    "            self.AC.action_ : buffer_a,\n",
    "            self.AC.td_target_ : buffer_tdtarget,\n",
    "            self.AC.advantage_ : buffer_adv,\n",
    "        }\n",
    "\n",
    "        # Update Buffer\n",
    "        aloss, closs, etrpy = self.AC.update_global(feed_dict)\n",
    "\n",
    "        # get global parameters to local ActorCritic \n",
    "        self.AC.pull_global()\n",
    "        \n",
    "        return aloss, closs, etrpy, feed_dict\n",
    "    "
   ]
  },
  {
   "cell_type": "markdown",
   "metadata": {},
   "source": [
    "## Initialization"
   ]
  },
  {
   "cell_type": "code",
   "execution_count": 8,
   "metadata": {},
   "outputs": [
    {
     "name": "stdout",
     "output_type": "stream",
     "text": [
      "worker: W_0 initializing\n",
      "    env launched: n_red:0, n_blue:4\n"
     ]
    },
    {
     "name": "stderr",
     "output_type": "stream",
     "text": [
      "/home/namsong/anaconda3/envs/py36/lib/python3.6/site-packages/gym/envs/registration.py:14: PkgResourcesDeprecationWarning: Parameters to load are deprecated.  Call .resolve and .require separately.\n",
      "  result = entry_point.load(False)\n"
     ]
    },
    {
     "name": "stdout",
     "output_type": "stream",
     "text": [
      "worker: W_1 initializing\n",
      "    env launched: n_red:0, n_blue:4\n",
      "worker: W_2 initializing\n",
      "    env launched: n_red:0, n_blue:4\n",
      "worker: W_3 initializing\n",
      "    env launched: n_red:0, n_blue:4\n",
      "worker: W_4 initializing\n",
      "    env launched: n_red:0, n_blue:4\n",
      "worker: W_5 initializing\n",
      "    env launched: n_red:0, n_blue:4\n",
      "worker: W_6 initializing\n",
      "    env launched: n_red:0, n_blue:4\n",
      "worker: W_7 initializing\n",
      "    env launched: n_red:0, n_blue:4\n",
      "INFO:tensorflow:Restoring parameters from ./model/A3C_Navigation/ctf_policy.ckpt-50000\n",
      "Load Model :  ./model/A3C_Navigation/ctf_policy.ckpt-50000\n",
      "INFO:tensorflow:Summary name global/actor/Conv/weights:0 is illegal; using global/actor/Conv/weights_0 instead.\n",
      "INFO:tensorflow:Summary name global/actor/Conv/biases:0 is illegal; using global/actor/Conv/biases_0 instead.\n",
      "INFO:tensorflow:Summary name global/actor/Conv_1/weights:0 is illegal; using global/actor/Conv_1/weights_0 instead.\n",
      "INFO:tensorflow:Summary name global/actor/Conv_1/biases:0 is illegal; using global/actor/Conv_1/biases_0 instead.\n",
      "INFO:tensorflow:Summary name global/actor/Conv_2/weights:0 is illegal; using global/actor/Conv_2/weights_0 instead.\n",
      "INFO:tensorflow:Summary name global/actor/Conv_2/biases:0 is illegal; using global/actor/Conv_2/biases_0 instead.\n",
      "INFO:tensorflow:Summary name global/actor/fully_connected/weights:0 is illegal; using global/actor/fully_connected/weights_0 instead.\n",
      "INFO:tensorflow:Summary name global/actor/fully_connected/biases:0 is illegal; using global/actor/fully_connected/biases_0 instead.\n",
      "INFO:tensorflow:Summary name global/actor/fully_connected_1/weights:0 is illegal; using global/actor/fully_connected_1/weights_0 instead.\n",
      "INFO:tensorflow:Summary name global/actor/fully_connected_1/biases:0 is illegal; using global/actor/fully_connected_1/biases_0 instead.\n",
      "INFO:tensorflow:Summary name global/critic/fully_connected/weights:0 is illegal; using global/critic/fully_connected/weights_0 instead.\n",
      "INFO:tensorflow:Summary name global/critic/fully_connected/biases:0 is illegal; using global/critic/fully_connected/biases_0 instead.\n"
     ]
    }
   ],
   "source": [
    "# Global Network\n",
    "global_step = tf.Variable(0, trainable=False, name='global_step')\n",
    "global_step_next = tf.assign_add(global_step, 1)\n",
    "global_ac = AC(in_size=in_size, action_size=action_space, scope=global_scope, sess=sess, global_step=global_step)\n",
    "\n",
    "# Local workers\n",
    "workers = []\n",
    "# loop for each workers\n",
    "for idx in range(nenv):\n",
    "    name = 'W_%i' % idx\n",
    "    print(f'worker: {name} initializing')\n",
    "    workers.append(Worker(name, global_ac, sess, global_step=global_step))\n",
    "saver = tf.train.Saver(max_to_keep=3)\n",
    "writer = tf.summary.FileWriter(LOG_PATH, sess.graph)\n",
    "    \n",
    "ckpt = tf.train.get_checkpoint_state(MODEL_PATH)\n",
    "if ckpt and tf.train.checkpoint_exists(ckpt.model_checkpoint_path):\n",
    "    saver.restore(sess, ckpt.model_checkpoint_path)\n",
    "    print(\"Load Model : \", ckpt.model_checkpoint_path)\n",
    "else:\n",
    "    sess.run(tf.global_variables_initializer())\n",
    "    print(\"Initialized Variables\")\n",
    "    \n",
    "coord = tf.train.Coordinator()\n",
    "worker_threads = []\n",
    "global_episodes = sess.run(global_step)\n",
    "\n",
    "saver.save(sess, MODEL_PATH+'/ctf_policy.ckpt', global_step=global_episodes)\n",
    "\n",
    "# Summarize\n",
    "for var in tf.trainable_variables(scope=global_scope):\n",
    "    tf.summary.histogram(var.name, var)\n",
    "merged_summary_op = tf.summary.merge_all()"
   ]
  },
  {
   "cell_type": "markdown",
   "metadata": {},
   "source": [
    "## Train"
   ]
  },
  {
   "cell_type": "markdown",
   "metadata": {},
   "source": [
    "for worker in workers:\n",
    "    job = lambda: worker.work(saver, writer)\n",
    "    t = threading.Thread(target=job)\n",
    "    t.start()\n",
    "    worker_threads.append(t)\n",
    "coord.join(worker_threads)"
   ]
  },
  {
   "cell_type": "markdown",
   "metadata": {},
   "source": [
    "## Render Simulation"
   ]
  },
  {
   "cell_type": "code",
   "execution_count": 9,
   "metadata": {},
   "outputs": [
    {
     "name": "stdout",
     "output_type": "stream",
     "text": [
      "env launched: n_red:0, n_blue:4\n"
     ]
    }
   ],
   "source": [
    "from tqdm import tqdm\n",
    "\n",
    "env = gym.make(\"cap-v0\").unwrapped\n",
    "env.reset(map_size=map_size,\n",
    "          policy_red=policy.zeros.PolicyGen(env.get_map, env.get_team_red),\n",
    "          num_blue=4,\n",
    "          num_red=0\n",
    "          )\n",
    "print(f'env launched: n_red:{len(env.get_team_red)}, n_blue:{len(env.get_team_blue)}')\n",
    "\n",
    "def get_action(states):\n",
    "    feed_dict = {global_ac.state_input : states}\n",
    "    a1, v1 = global_ac.run_network(feed_dict)\n",
    "\n",
    "    return a1, v1\n",
    "\n",
    "def render_run(n_episode):\n",
    "    frames = []\n",
    "    for ep in tqdm(range(n_episode)):\n",
    "        s0 = env.reset(num_blue=4, num_red=0,\n",
    "                       policy_red=policy.zeros.PolicyGen(env.get_map, env.get_team_red))\n",
    "        s0 = one_hot_encoder(env._env, env.get_team_blue, vision_range)\n",
    "\n",
    "        # parameters \n",
    "        ep_r = 0 # Episodic Reward\n",
    "        prev_r = 0 # Previous Reward\n",
    "\n",
    "        # Bootstrap\n",
    "        a1, v1 = get_action(s0)\n",
    "\n",
    "        for step in range(max_ep+1):\n",
    "            frames.append(env.render(mode='rgb_array'))\n",
    "            env.viewer.window.set_visible(False)\n",
    "            a, v0 = a1, v1\n",
    "\n",
    "            s1, rc, d, _ = env.step(a)\n",
    "            s1 = one_hot_encoder(env._env, env.get_team_blue, vision_range)\n",
    "            r = (rc - prev_r-0.5)\n",
    "\n",
    "            if step == max_ep and d == False:\n",
    "                r = -100\n",
    "                rc = -100\n",
    "                d = True\n",
    "            r /= 100.0\n",
    "            ep_r += r\n",
    "\n",
    "            if not d:\n",
    "                a1, v1 = get_action(s1)\n",
    "\n",
    "            # Iteration\n",
    "            prev_r = rc\n",
    "            s0=s1\n",
    "\n",
    "            if d:\n",
    "                break\n",
    "\n",
    "    imageio.mimsave(RENDER_PATH+f'/series_ep{n_episode}_render.gif', frames)\n",
    "    print('render done')\n"
   ]
  },
  {
   "cell_type": "markdown",
   "metadata": {},
   "source": [
    "Render_Episode = 20\n",
    "render_run(Render_Episode)\n",
    "Render_Episode = 50\n",
    "render_run(Render_Episode)"
   ]
  },
  {
   "cell_type": "markdown",
   "metadata": {},
   "source": [
    "## Statistics"
   ]
  },
  {
   "cell_type": "code",
   "execution_count": 10,
   "metadata": {},
   "outputs": [],
   "source": [
    "success_rate = []  # based on env.blue_won\n",
    "mean_reward = []\n",
    "episode_length = []\n",
    "survival_rate = []\n",
    "\n",
    "def statistics(n_episode):\n",
    "    frames = []\n",
    "    for ep in tqdm(range(n_episode)):\n",
    "        s0 = env.reset(num_blue=4,\n",
    "                       num_red=0,\n",
    "                       policy_red=policy.zeros.PolicyGen(env.get_map, env.get_team_red))\n",
    "        s0 = one_hot_encoder(env._env, env.get_team_blue, vision_range)\n",
    "\n",
    "        # parameters \n",
    "        ep_r = 0 # Episodic Reward\n",
    "        prev_r = 0 # Previous Reward\n",
    "\n",
    "        # Bootstrap\n",
    "        a1, v1 = get_action(s0)\n",
    "\n",
    "        for step in range(max_ep+1):\n",
    "            a, v0 = a1, v1\n",
    "\n",
    "            s1, rc, d, _ = env.step(a)\n",
    "            s1 = one_hot_encoder(env._env, env.get_team_blue, vision_range)\n",
    "            r = (rc - prev_r-0.5)\n",
    "\n",
    "            if step == max_ep and d == False:\n",
    "                r = -100\n",
    "                rc = -100\n",
    "                d = True\n",
    "            r /= 100.0\n",
    "            ep_r += r\n",
    "\n",
    "            if not d:\n",
    "                a1, v1 = get_action(s1)\n",
    "\n",
    "            # Iteration\n",
    "            prev_r = rc\n",
    "            s0=s1\n",
    "\n",
    "            if d:\n",
    "                success_rate.append(env.blue_win)\n",
    "                mean_reward.append(r)\n",
    "                episode_length.append(step)\n",
    "                survival_rate.append(sum([ag.isAlive for ag in env.get_team_blue])/n_agent)\n",
    "                break\n"
   ]
  },
  {
   "cell_type": "code",
   "execution_count": 11,
   "metadata": {},
   "outputs": [],
   "source": [
    "def moving_average(a, n=3) :\n",
    "    ret = np.cumsum(a, dtype=float)\n",
    "    ret[n:] = ret[n:] - ret[:-n]\n",
    "    return ret[n - 1:] / n"
   ]
  },
  {
   "cell_type": "code",
   "execution_count": 12,
   "metadata": {},
   "outputs": [
    {
     "name": "stderr",
     "output_type": "stream",
     "text": [
      "100%|██████████| 1000/1000 [01:25<00:00, 11.65it/s]\n"
     ]
    }
   ],
   "source": [
    "statistics(1000)"
   ]
  },
  {
   "cell_type": "code",
   "execution_count": 13,
   "metadata": {},
   "outputs": [
    {
     "name": "stdout",
     "output_type": "stream",
     "text": [
      "mean: 0.987, std: 0.11327400407860577\n"
     ]
    },
    {
     "data": {
      "text/plain": [
       "<matplotlib.lines.Line2D at 0x7fa6f85b7550>"
      ]
     },
     "execution_count": 13,
     "metadata": {},
     "output_type": "execute_result"
    },
    {
     "data": {
      "image/png": "[encoded data removed]",
      "text/plain": [
       "<Figure size 432x288 with 1 Axes>"
      ]
     },
     "metadata": {
      "needs_background": "light"
     },
     "output_type": "display_data"
    }
   ],
   "source": [
    "mean = np.mean(success_rate)\n",
    "std = np.std(success_rate)\n",
    "print(f'mean: {mean}, std: {std}')\n",
    "\n",
    "plt.plot(moving_average(success_rate,n=75))\n",
    "plt.axhline(mean, color='r')"
   ]
  },
  {
   "cell_type": "code",
   "execution_count": 14,
   "metadata": {},
   "outputs": [
    {
     "name": "stdout",
     "output_type": "stream",
     "text": [
      "mean: 0.9690649999999996, std: 0.2259816381368185\n"
     ]
    },
    {
     "data": {
      "text/plain": [
       "<matplotlib.lines.Line2D at 0x7fa5f804c080>"
      ]
     },
     "execution_count": 14,
     "metadata": {},
     "output_type": "execute_result"
    },
    {
     "data": {
      "image/png": "[encoded data removed]",
      "text/plain": [
       "<Figure size 432x288 with 1 Axes>"
      ]
     },
     "metadata": {
      "needs_background": "light"
     },
     "output_type": "display_data"
    }
   ],
   "source": [
    "mean = np.mean(mean_reward)\n",
    "std = np.std(mean_reward)\n",
    "print(f'mean: {mean}, std: {std}')\n",
    "\n",
    "plt.plot(moving_average(mean_reward,n=75))\n",
    "plt.axhline(mean,color='r')"
   ]
  },
  {
   "cell_type": "code",
   "execution_count": 15,
   "metadata": {},
   "outputs": [
    {
     "name": "stdout",
     "output_type": "stream",
     "text": [
      "mean: 14.02, std: 19.811451234071672\n"
     ]
    },
    {
     "data": {
      "text/plain": [
       "<matplotlib.lines.Line2D at 0x7fa5e0432c50>"
      ]
     },
     "execution_count": 15,
     "metadata": {},
     "output_type": "execute_result"
    },
    {
     "data": {
      "image/png": "[encoded data removed]",
      "text/plain": [
       "<Figure size 432x288 with 1 Axes>"
      ]
     },
     "metadata": {
      "needs_background": "light"
     },
     "output_type": "display_data"
    }
   ],
   "source": [
    "mean = np.mean(episode_length)\n",
    "std = np.std(episode_length)\n",
    "print(f'mean: {mean}, std: {std}')\n",
    "\n",
    "plt.plot(moving_average(episode_length,n=75))\n",
    "plt.axhline(mean,color='r')"
   ]
  },
  {
   "cell_type": "code",
   "execution_count": 16,
   "metadata": {},
   "outputs": [
    {
     "name": "stdout",
     "output_type": "stream",
     "text": [
      "mean: 1.0, std: 0.0\n"
     ]
    },
    {
     "data": {
      "text/plain": [
       "<matplotlib.lines.Line2D at 0x7fa5e0777b00>"
      ]
     },
     "execution_count": 16,
     "metadata": {},
     "output_type": "execute_result"
    },
    {
     "data": {
      "image/png": "[encoded data removed]",
      "text/plain": [
       "<Figure size 432x288 with 1 Axes>"
      ]
     },
     "metadata": {
      "needs_background": "light"
     },
     "output_type": "display_data"
    }
   ],
   "source": [
    "mean = np.mean(survival_rate)\n",
    "std = np.std(survival_rate)\n",
    "print(f'mean: {mean}, std: {std}')\n",
    "\n",
    "plt.plot(moving_average(survival_rate,n=75))\n",
    "plt.axhline(mean,color='r')"
   ]
  }
 ],
 "metadata": {
  "kernelspec": {
   "display_name": "Python 3",
   "language": "python",
   "name": "python3"
  },
  "language_info": {
   "codemirror_mode": {
    "name": "ipython",
    "version": 3
   },
   "file_extension": ".py",
   "mimetype": "text/x-python",
   "name": "python",
   "nbconvert_exporter": "python",
   "pygments_lexer": "ipython3",
   "version": "3.6.8"
  }
 },
 "nbformat": 4,
 "nbformat_minor": 2
}
