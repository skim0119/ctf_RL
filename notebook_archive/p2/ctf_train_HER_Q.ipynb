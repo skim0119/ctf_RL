{
 "cells": [
  {
   "cell_type": "code",
   "execution_count": 1,
   "metadata": {},
   "outputs": [],
   "source": [
    "import os\n",
    "\n",
    "import tensorflow as tf\n",
    "\n",
    "import time\n",
    "import gym\n",
    "import gym_cap\n",
    "import gym_cap.envs.const as CONST\n",
    "import numpy as np\n",
    "import random\n",
    "import math\n",
    "import matplotlib.pyplot as plt\n",
    "%matplotlib inline\n",
    "\n",
    "# the modules that you can use to generate the policy. \n",
    "import policy.random\n",
    "import policy.roomba\n",
    "import policy.policy_RL\n",
    "import policy.zeros\n",
    "\n",
    "# Data Processing Module\n",
    "from utility.dataModule import state_processor\n",
    "#from utility.utils import MovingAverage as MA\n",
    "from utility.utils import discount_rewards, store_args, q_retrace\n",
    "#from utility.her import HER\n",
    "\n",
    "from network.base import *\n",
    "\n",
    "from tqdm import tqdm\n",
    "\n",
    "%load_ext autoreload\n",
    "%autoreload 2"
   ]
  },
  {
   "cell_type": "code",
   "execution_count": 2,
   "metadata": {},
   "outputs": [],
   "source": [
    "!rm -rf logs/HER_Q/ model/HER_Q"
   ]
  },
  {
   "cell_type": "code",
   "execution_count": 3,
   "metadata": {},
   "outputs": [],
   "source": [
    "TRAIN_NAME='HER_Q'\n",
    "LOG_PATH='./logs/'+TRAIN_NAME\n",
    "MODEL_PATH='./model/' + TRAIN_NAME\n",
    "GPU_CAPACITY=0.5 # gpu capacity in percentage"
   ]
  },
  {
   "cell_type": "code",
   "execution_count": 4,
   "metadata": {},
   "outputs": [],
   "source": [
    "# Experience replay buffer\n",
    "class Buffer():\n",
    "    def __init__(self, buffer_size = 50000):\n",
    "        self.buffer = []\n",
    "        self.buffer_size = buffer_size\n",
    "\n",
    "    def add(self, experience):\n",
    "        self.buffer.append(experience)\n",
    "        if len(self.buffer) > self.buffer_size:\n",
    "            self.buffer = self.buffer[int(0.0001 * self.buffer_size):]\n",
    "\n",
    "    def sample(self,size):\n",
    "        if len(self.buffer) >= size:\n",
    "            experience_buffer = self.buffer\n",
    "        else:\n",
    "            experience_buffer = self.buffer * size\n",
    "        return np.copy(np.reshape(np.array(random.sample(experience_buffer,size)),[size,4]))\n"
   ]
  },
  {
   "cell_type": "code",
   "execution_count": 5,
   "metadata": {},
   "outputs": [],
   "source": [
    "def fully_connected_layer(inputs, dim, activation=None, scope=\"fc\", reuse=None, init=tf.contrib.layers.xavier_initializer(), bias = True):\n",
    "    with tf.variable_scope(scope, reuse = reuse):\n",
    "        w_ = tf.get_variable(\"W_\", [inputs.shape[-1], dim], initializer = init)\n",
    "        outputs = tf.matmul(inputs, w_)\n",
    "        if bias:\n",
    "            b = tf.get_variable(\"b_\", dim, initializer = tf.zeros_initializer())\n",
    "            outputs += b\n",
    "        if activation is not None:\n",
    "            outputs = activation(outputs)\n",
    "        return outputs\n",
    "\n",
    "# Simple 1 layer feed forward neural network\n",
    "class Model():\n",
    "    @store_args\n",
    "    def __init__(self, in_size, action_size, name, lr=1e-3):\n",
    "        with tf.variable_scope(name):\n",
    "            self.inputs = tf.placeholder(shape=in_size, dtype=tf.float32)\n",
    "            self.Q_, self.predict = self.build_network(self.inputs)\n",
    "\n",
    "            self.action = tf.placeholder(shape=None, dtype=tf.int32)\n",
    "            self.Q_next = tf.placeholder(shape=None, dtype=tf.float32)\n",
    "            self.train_op, self.loss = self.build_train(self.action, self.Q_next)\n",
    "            \n",
    "            self.init_op = tf.global_variables_initializer()\n",
    "\n",
    "    def build_network(self, input_net):\n",
    "        init = tf.contrib.layers.variance_scaling_initializer(factor = 1.0, mode = \"FAN_AVG\", uniform = False)\n",
    "\n",
    "        hidden = fully_connected_layer(input_net, 128, activation=tf.nn.relu, init=init, scope=\"fc1\")\n",
    "        hidden = fully_connected_layer(hidden, 128, activation=tf.nn.relu, init=init, scope=\"fc2\")\n",
    "        hidden = fully_connected_layer(hidden, 128, activation=tf.nn.relu, init=init, scope=\"fc3\")\n",
    "        Q_ = fully_connected_layer(hidden, self.action_size, activation = None, scope = \"Q\", bias = False)\n",
    "        predict = tf.argmax(Q_, axis = -1)\n",
    "\n",
    "        return Q_, predict\n",
    "\n",
    "    def build_train(self, action, q_next):\n",
    "        action_onehot = tf.one_hot(action, self.action_size, dtype = tf.float32)\n",
    "        Q = tf.reduce_sum(tf.multiply(self.Q_, action_onehot), axis = 1)\n",
    "        loss = tf.reduce_sum(tf.square(q_next - Q))\n",
    "        optimizer = tf.train.AdamOptimizer(learning_rate=self.lr)\n",
    "        train_op = optimizer.minimize(loss)\n",
    "        \n",
    "        return train_op, loss\n"
   ]
  },
  {
   "cell_type": "code",
   "execution_count": 6,
   "metadata": {},
   "outputs": [],
   "source": [
    "def updateTargetGraph(tfVars,tau):\n",
    "    total_vars = len(tfVars)\n",
    "    op_holder = []\n",
    "    for idx,var in enumerate(tfVars[0:total_vars//2]):\n",
    "        op_holder.append(tfVars[idx+total_vars//2].assign((var.value()*(1. - tau))\n",
    "                                                          + (tau * tfVars[idx+total_vars//2].value())))\n",
    "    return op_holder\n",
    "\n",
    "def updateTarget(op_holder,sess):\n",
    "    for op in op_holder:\n",
    "        sess.run(op)\n"
   ]
  },
  {
   "cell_type": "code",
   "execution_count": 7,
   "metadata": {},
   "outputs": [
    {
     "name": "stderr",
     "output_type": "stream",
     "text": [
      "/home/namsong/anaconda3/envs/py36/lib/python3.6/site-packages/gym/envs/registration.py:14: PkgResourcesDeprecationWarning: Parameters to load are deprecated.  Call .resolve and .require separately.\n",
      "  result = entry_point.load(False)\n"
     ]
    },
    {
     "name": "stdout",
     "output_type": "stream",
     "text": [
      "Environment info\n",
      "    number of blue agents : 1\n",
      "    number of red agents  : 0\n"
     ]
    },
    {
     "name": "stderr",
     "output_type": "stream",
     "text": [
      "  0%|          | 0/100 [00:00<?, ?it/s]/home/namsong/anaconda3/envs/py36/lib/python3.6/site-packages/ipykernel_launcher.py:118: DeprecationWarning: elementwise comparison failed; this will raise an error in the future.\n"
     ]
    },
    {
     "data": {
      "text/plain": [
       "<Figure size 432x288 with 0 Axes>"
      ]
     },
     "metadata": {},
     "output_type": "display_data"
    },
    {
     "data": {
      "image/png": "[encoded data removed]",
      "text/plain": [
       "<Figure size 432x288 with 2 Axes>"
      ]
     },
     "metadata": {
      "needs_background": "light"
     },
     "output_type": "display_data"
    },
    {
     "name": "stderr",
     "output_type": "stream",
     "text": [
      " 53%|█████▎    | 53/100 [18:13:17<17:40:33, 1353.90s/it]"
     ]
    },
    {
     "ename": "KeyboardInterrupt",
     "evalue": "",
     "output_type": "error",
     "traceback": [
      "\u001b[0;31m---------------------------------------------------------------------------\u001b[0m",
      "\u001b[0;31mKeyboardInterrupt\u001b[0m                         Traceback (most recent call last)",
      "\u001b[0;32m<ipython-input-7-7df540d1af64>\u001b[0m in \u001b[0;36m<module>\u001b[0;34m\u001b[0m\n\u001b[1;32m     92\u001b[0m                     \u001b[0maction\u001b[0m \u001b[0;34m=\u001b[0m \u001b[0maction\u001b[0m\u001b[0;34m[\u001b[0m\u001b[0;36m0\u001b[0m\u001b[0;34m]\u001b[0m\u001b[0;34m\u001b[0m\u001b[0;34m\u001b[0m\u001b[0m\n\u001b[1;32m     93\u001b[0m                     \u001b[0ms_next\u001b[0m\u001b[0;34m,\u001b[0m \u001b[0m_\u001b[0m\u001b[0;34m,\u001b[0m \u001b[0mepisode_succeeded\u001b[0m\u001b[0;34m,\u001b[0m \u001b[0m_\u001b[0m \u001b[0;34m=\u001b[0m \u001b[0menv\u001b[0m\u001b[0;34m.\u001b[0m\u001b[0mstep\u001b[0m\u001b[0;34m(\u001b[0m\u001b[0;34m[\u001b[0m\u001b[0maction\u001b[0m\u001b[0;34m]\u001b[0m\u001b[0;34m)\u001b[0m\u001b[0;34m\u001b[0m\u001b[0;34m\u001b[0m\u001b[0m\n\u001b[0;32m---> 94\u001b[0;31m                     \u001b[0mlocal_view\u001b[0m\u001b[0;34m,\u001b[0m \u001b[0mglobal_position\u001b[0m\u001b[0;34m,\u001b[0m \u001b[0mgoal\u001b[0m \u001b[0;34m=\u001b[0m \u001b[0mstate_processor\u001b[0m\u001b[0;34m(\u001b[0m\u001b[0ms_next\u001b[0m\u001b[0;34m,\u001b[0m \u001b[0menv\u001b[0m\u001b[0;34m.\u001b[0m\u001b[0mget_team_blue\u001b[0m\u001b[0;34m,\u001b[0m \u001b[0mVISION_RANGE\u001b[0m\u001b[0;34m,\u001b[0m \u001b[0menv\u001b[0m\u001b[0;34m.\u001b[0m\u001b[0m_env\u001b[0m\u001b[0;34m,\u001b[0m \u001b[0mflatten\u001b[0m\u001b[0;34m=\u001b[0m\u001b[0;32mTrue\u001b[0m\u001b[0;34m,\u001b[0m \u001b[0mpartial\u001b[0m\u001b[0;34m=\u001b[0m\u001b[0;32mFalse\u001b[0m\u001b[0;34m)\u001b[0m\u001b[0;34m\u001b[0m\u001b[0;34m\u001b[0m\u001b[0m\n\u001b[0m\u001b[1;32m     95\u001b[0m                     \u001b[0mstate_next\u001b[0m \u001b[0;34m=\u001b[0m \u001b[0mnp\u001b[0m\u001b[0;34m.\u001b[0m\u001b[0mconcatenate\u001b[0m\u001b[0;34m(\u001b[0m\u001b[0;34m[\u001b[0m\u001b[0mlocal_view\u001b[0m\u001b[0;34m,\u001b[0m \u001b[0mglobal_position\u001b[0m\u001b[0;34m]\u001b[0m\u001b[0;34m,\u001b[0m \u001b[0maxis\u001b[0m\u001b[0;34m=\u001b[0m\u001b[0;34m-\u001b[0m\u001b[0;36m1\u001b[0m\u001b[0;34m)\u001b[0m\u001b[0;34m\u001b[0m\u001b[0;34m\u001b[0m\u001b[0m\n\u001b[1;32m     96\u001b[0m                     \u001b[0mreward\u001b[0m \u001b[0;34m=\u001b[0m \u001b[0;34m-\u001b[0m\u001b[0;34m(\u001b[0m\u001b[0;34m(\u001b[0m\u001b[0mgoal\u001b[0m\u001b[0;34m==\u001b[0m\u001b[0mglobal_position\u001b[0m\u001b[0;34m)\u001b[0m\u001b[0;34m==\u001b[0m\u001b[0;36m0\u001b[0m\u001b[0;34m)\u001b[0m\u001b[0;34m\u001b[0m\u001b[0;34m\u001b[0m\u001b[0m\n",
      "\u001b[0;32m~/github/ctf_public/utility/dataModule.py\u001b[0m in \u001b[0;36mstate_processor\u001b[0;34m(state, agents, vision_radius, full_state, flatten, reverse, partial)\u001b[0m\n\u001b[1;32m     42\u001b[0m \u001b[0;34m\u001b[0m\u001b[0m\n\u001b[1;32m     43\u001b[0m     \u001b[0;31m# One-hot encode state\u001b[0m\u001b[0;34m\u001b[0m\u001b[0;34m\u001b[0m\u001b[0;34m\u001b[0m\u001b[0m\n\u001b[0;32m---> 44\u001b[0;31m     \u001b[0moh_state\u001b[0m \u001b[0;34m=\u001b[0m \u001b[0mone_hot_encoder\u001b[0m\u001b[0;34m(\u001b[0m\u001b[0mstate\u001b[0m\u001b[0;34m,\u001b[0m \u001b[0magents\u001b[0m\u001b[0;34m,\u001b[0m \u001b[0mvision_radius\u001b[0m\u001b[0;34m,\u001b[0m \u001b[0mreverse\u001b[0m\u001b[0;34m,\u001b[0m \u001b[0mflatten\u001b[0m\u001b[0;34m=\u001b[0m\u001b[0mflatten\u001b[0m\u001b[0;34m)\u001b[0m\u001b[0;34m\u001b[0m\u001b[0;34m\u001b[0m\u001b[0m\n\u001b[0m\u001b[1;32m     45\u001b[0m \u001b[0;34m\u001b[0m\u001b[0m\n\u001b[1;32m     46\u001b[0m     \u001b[0;31m# gps state\u001b[0m\u001b[0;34m\u001b[0m\u001b[0;34m\u001b[0m\u001b[0;34m\u001b[0m\u001b[0m\n",
      "\u001b[0;32m~/github/ctf_public/utility/dataModule.py\u001b[0m in \u001b[0;36mone_hot_encoder\u001b[0;34m(state, agents, vision_radius, reverse, flatten, locs)\u001b[0m\n\u001b[1;32m    113\u001b[0m         \u001b[0;32mfor\u001b[0m \u001b[0mchannel\u001b[0m\u001b[0;34m,\u001b[0m \u001b[0mval\u001b[0m \u001b[0;32min\u001b[0m \u001b[0mmap_color\u001b[0m\u001b[0;34m.\u001b[0m\u001b[0mitems\u001b[0m\u001b[0;34m(\u001b[0m\u001b[0;34m)\u001b[0m\u001b[0;34m:\u001b[0m\u001b[0;34m\u001b[0m\u001b[0;34m\u001b[0m\u001b[0m\n\u001b[1;32m    114\u001b[0m             \u001b[0;32mif\u001b[0m \u001b[0mval\u001b[0m \u001b[0;34m==\u001b[0m \u001b[0;36m1\u001b[0m\u001b[0;34m:\u001b[0m\u001b[0;34m\u001b[0m\u001b[0;34m\u001b[0m\u001b[0m\n\u001b[0;32m--> 115\u001b[0;31m                 \u001b[0moh_state\u001b[0m\u001b[0;34m[\u001b[0m\u001b[0midx\u001b[0m\u001b[0;34m,\u001b[0m \u001b[0;34m:\u001b[0m\u001b[0;34m,\u001b[0m \u001b[0;34m:\u001b[0m\u001b[0;34m,\u001b[0m \u001b[0mmap_channel\u001b[0m\u001b[0;34m[\u001b[0m\u001b[0mchannel\u001b[0m\u001b[0;34m]\u001b[0m\u001b[0;34m]\u001b[0m \u001b[0;34m+=\u001b[0m \u001b[0;34m(\u001b[0m\u001b[0mvision\u001b[0m \u001b[0;34m==\u001b[0m \u001b[0mchannel\u001b[0m\u001b[0;34m)\u001b[0m\u001b[0;34m.\u001b[0m\u001b[0mastype\u001b[0m\u001b[0;34m(\u001b[0m\u001b[0mnp\u001b[0m\u001b[0;34m.\u001b[0m\u001b[0mint32\u001b[0m\u001b[0;34m)\u001b[0m\u001b[0;34m\u001b[0m\u001b[0;34m\u001b[0m\u001b[0m\n\u001b[0m\u001b[1;32m    116\u001b[0m             \u001b[0;32melif\u001b[0m \u001b[0mval\u001b[0m \u001b[0;34m==\u001b[0m \u001b[0;34m-\u001b[0m\u001b[0;36m1\u001b[0m\u001b[0;34m:\u001b[0m\u001b[0;34m\u001b[0m\u001b[0;34m\u001b[0m\u001b[0m\n\u001b[1;32m    117\u001b[0m                 \u001b[0moh_state\u001b[0m\u001b[0;34m[\u001b[0m\u001b[0midx\u001b[0m\u001b[0;34m,\u001b[0m \u001b[0;34m:\u001b[0m\u001b[0;34m,\u001b[0m \u001b[0;34m:\u001b[0m\u001b[0;34m,\u001b[0m \u001b[0mmap_channel\u001b[0m\u001b[0;34m[\u001b[0m\u001b[0mchannel\u001b[0m\u001b[0;34m]\u001b[0m\u001b[0;34m]\u001b[0m \u001b[0;34m-=\u001b[0m \u001b[0;34m(\u001b[0m\u001b[0mvision\u001b[0m \u001b[0;34m==\u001b[0m \u001b[0mchannel\u001b[0m\u001b[0;34m)\u001b[0m\u001b[0;34m.\u001b[0m\u001b[0mastype\u001b[0m\u001b[0;34m(\u001b[0m\u001b[0mnp\u001b[0m\u001b[0;34m.\u001b[0m\u001b[0mint32\u001b[0m\u001b[0;34m)\u001b[0m\u001b[0;34m\u001b[0m\u001b[0;34m\u001b[0m\u001b[0m\n",
      "\u001b[0;31mKeyboardInterrupt\u001b[0m: "
     ]
    }
   ],
   "source": [
    "# Replay Variables\n",
    "total_episodes= 200000\n",
    "max_ep = 150\n",
    "entropy_beta = 0.01\n",
    "trajectory_length = 150\n",
    "train_frequency = 1  # not yet implemented\n",
    "minibatch_size = 500\n",
    "\n",
    "# Saving Related\n",
    "save_network_frequency = 1200\n",
    "save_stat_frequency = 128\n",
    "moving_average_step = 128\n",
    "\n",
    "# Training Variables\n",
    "lr_a = 5e-5\n",
    "lr_c = 2e-4\n",
    "\n",
    "gamma = 0.98 # discount_factor\n",
    "\n",
    "# Env Settings\n",
    "MAP_SIZE = 50\n",
    "VISION_RANGE = 19 # What decide the network size !!!\n",
    "VISION_dX, VISION_dY = 2*VISION_RANGE+1, 2*VISION_RANGE+1\n",
    "IN_SIZE = [None,VISION_dX*VISION_dY*6+4]\n",
    "GPS_SIZE = [None, 2]\n",
    "ACTION_SPACE = 5\n",
    "N_AGENT = 1\n",
    "NENV = 8\n",
    "\n",
    "# Set environment\n",
    "env = gym.make(\"cap-v0\").unwrapped\n",
    "env.reset(map_size=50,\n",
    "          policy_red=policy.zeros.PolicyGen(env.get_map, env.get_team_red))\n",
    "print(f'Environment info')\n",
    "print(f'    number of blue agents : {len(env.get_team_blue)}')\n",
    "print(f'    number of red agents  : {len(env.get_team_red)}')\n",
    "\n",
    "\n",
    "shaped_reward = False\n",
    "size = 150\n",
    "num_epochs = 100          # Overall Epoch\n",
    "num_cycles = 50\n",
    "num_episodes = 32\n",
    "\n",
    "optimisation_steps = 40\n",
    "K = 4 # Goal replay count\n",
    "buffer_size = 1e5\n",
    "tau = 0.95\n",
    "gamma = 0.98\n",
    "batch_size = 256\n",
    "\n",
    "total_rewards = []\n",
    "total_loss = []\n",
    "success_rate = []\n",
    "succeed = 0\n",
    "\n",
    "modelNetwork = Model(in_size = IN_SIZE, action_size=ACTION_SPACE, name = \"model\")\n",
    "targetNetwork = Model(in_size = IN_SIZE, action_size=ACTION_SPACE, name = \"target\")\n",
    "trainables = tf.trainable_variables()\n",
    "updateOps = updateTargetGraph(trainables, tau)\n",
    "buff = Buffer(buffer_size)\n",
    "\n",
    "plt.figure()\n",
    "fig = plt.figure()\n",
    "ax = fig.add_subplot(211)\n",
    "plt.title(\"Success Rate\")\n",
    "ax.set_ylim([0,1.])\n",
    "ax2 = fig.add_subplot(212)\n",
    "plt.title(\"Q Loss\")\n",
    "line = ax.plot(np.zeros(1), np.zeros(1), 'b-')[0]\n",
    "line2 = ax2.plot(np.zeros(1), np.zeros(1), 'b-')[0]\n",
    "fig.canvas.draw()\n",
    "\n",
    "with tf.Session() as sess:\n",
    "    sess.run(modelNetwork.init_op)\n",
    "    sess.run(targetNetwork.init_op)\n",
    "    for i in tqdm(range(num_epochs), total = num_epochs):\n",
    "        for j in range(num_cycles):\n",
    "            total_reward = 0.0\n",
    "            successes = []\n",
    "            for n in range(num_episodes):\n",
    "                s0 = env.reset()\n",
    "                local_view, global_position, goal = state_processor(s0, env.get_team_blue, VISION_RANGE, env._env, flatten=True, partial=False)\n",
    "                episode_experience = []\n",
    "                episode_succeeded = False\n",
    "\n",
    "                # Episode Rollout\n",
    "                for t in range(size):\n",
    "                    state = np.concatenate([local_view, global_position], axis=1)\n",
    "                    inputs = np.concatenate([state, goal], axis=1)\n",
    "                    action = sess.run(modelNetwork.predict, feed_dict={modelNetwork.inputs:inputs})\n",
    "                    action = action[0]\n",
    "                    s_next, _, episode_succeeded, _ = env.step([action])\n",
    "                    local_view, global_position, goal = state_processor(s_next, env.get_team_blue, VISION_RANGE, env._env, flatten=True, partial=False)\n",
    "                    state_next = np.concatenate([local_view, global_position], axis=-1)\n",
    "                    reward = -((goal==global_position)==0)\n",
    "                    episode_experience.append((state, action, reward, state_next, goal))\n",
    "                    total_reward += reward\n",
    "                    if reward == 0:\n",
    "                        succeed += 1\n",
    "                        break\n",
    "                successes.append(episode_succeeded)\n",
    "                played_size = len(episode_experience)\n",
    "\n",
    "                # Goal Replay\n",
    "                for t in range(played_size):\n",
    "                    s, a, r, s_n, g = episode_experience[t]\n",
    "                    inputs = np.concatenate([s,g],axis = 1)\n",
    "                    new_inputs = np.concatenate([s_n,g],axis = 1)\n",
    "                    buff.add(np.reshape(np.array([inputs,a,r,new_inputs]),[1,4]))\n",
    "                    # Action Replay\n",
    "                    for k in range(K):\n",
    "                        future = np.random.randint(t, played_size)\n",
    "                        _, _, _, g_n, _ = episode_experience[future]\n",
    "                        g_n=g_n[:,-2:]\n",
    "                        inputs = np.concatenate([s,g_n],axis = -1)\n",
    "                        new_inputs = np.concatenate([s_n, g_n],axis = -1)\n",
    "                        final = np.sum(np.array(s_n[-2:]) == np.array(g_n)) == played_size\n",
    "                        r_n = 0 if final else -1\n",
    "                        buff.add(np.reshape(np.array([inputs,a,r_n,new_inputs]),[1,4]))\n",
    "\n",
    "            # Train\n",
    "            mean_loss = []\n",
    "            for k in range(optimisation_steps):\n",
    "                experience = buff.sample(batch_size)\n",
    "                s, a, r, s_next = [np.squeeze(elem, axis = 1) for elem in np.split(experience, 4, 1)]\n",
    "                s = [ss.reshape((-1,)) for ss in s]\n",
    "                s = np.array(s)\n",
    "                s = np.reshape(s, (batch_size, -1))\n",
    "                s_next = np.array([ss.reshape((-1,)) for ss in s_next])\n",
    "                s_next = np.reshape(s_next, (batch_size, -1))\n",
    "                Q1 = sess.run(modelNetwork.Q_, feed_dict = {modelNetwork.inputs: s_next})\n",
    "                Q2 = sess.run(targetNetwork.Q_, feed_dict = {targetNetwork.inputs: s_next})\n",
    "                doubleQ = Q2[:, np.argmax(Q1, axis = -1)]\n",
    "                Q_target = np.clip(r + gamma * doubleQ,  -1. / (1 - gamma), 0)\n",
    "                _, loss = sess.run([modelNetwork.train_op, modelNetwork.loss], feed_dict = {modelNetwork.inputs: s, modelNetwork.Q_next: Q_target, modelNetwork.action: a})\n",
    "                mean_loss.append(loss)\n",
    "\n",
    "            # Graph\n",
    "            success_rate.append(np.mean(successes))\n",
    "            total_loss.append(np.mean(mean_loss))\n",
    "            updateTarget(updateOps,sess)\n",
    "            total_rewards.append(total_reward)\n",
    "            ax.relim()\n",
    "            ax.autoscale_view()\n",
    "            ax2.relim()\n",
    "            ax2.autoscale_view()\n",
    "            line.set_data(np.arange(len(success_rate)), np.array(success_rate))\n",
    "            # line.set_data(np.arange(len(total_rewards)), np.array(total_rewards))\n",
    "            line2.set_data(np.arange(len(total_loss)), np.array(total_loss))\n",
    "            fig.canvas.draw()\n",
    "            fig.canvas.flush_events()\n",
    "            plt.pause(1e-7)\n",
    "\n",
    "\n",
    "    saver = tf.train.Saver()\n",
    "    saver.save(sess, os.path.join(MODEL_PATH, \"model.ckpt\"))\n",
    "\n",
    "    print(\"Number of episodes succeeded: {}\".format(succeed))\n"
   ]
  },
  {
   "cell_type": "code",
   "execution_count": 8,
   "metadata": {},
   "outputs": [
    {
     "data": {
      "image/png": "[encoded data removed]",
      "text/plain": [
       "<Figure size 432x288 with 2 Axes>"
      ]
     },
     "execution_count": 8,
     "metadata": {},
     "output_type": "execute_result"
    }
   ],
   "source": [
    "%matplotlib inline\n",
    "fig\n"
   ]
  },
  {
   "cell_type": "code",
   "execution_count": null,
   "metadata": {},
   "outputs": [],
   "source": []
  }
 ],
 "metadata": {
  "kernelspec": {
   "display_name": "Python 3",
   "language": "python",
   "name": "python3"
  }
 },
 "nbformat": 4,
 "nbformat_minor": 2
}
